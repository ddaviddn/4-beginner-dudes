{
  "nbformat": 4,
  "nbformat_minor": 0,
  "metadata": {
    "colab": {
      "name": "Full_Simple_Linear_Regression.ipynb",
      "provenance": [],
      "include_colab_link": true
    },
    "kernelspec": {
      "name": "python3",
      "display_name": "Python 3"
    }
  },
  "cells": [
    {
      "cell_type": "markdown",
      "metadata": {
        "id": "view-in-github",
        "colab_type": "text"
      },
      "source": [
        "<a href=\"https://colab.research.google.com/github/ddaviddn/4-beginner-dudes/blob/master/Full_Simple_Linear_Regression.ipynb\" target=\"_parent\"><img src=\"https://colab.research.google.com/assets/colab-badge.svg\" alt=\"Open In Colab\"/></a>"
      ]
    },
    {
      "cell_type": "markdown",
      "metadata": {
        "id": "jrQKV_P6Vx5j",
        "colab_type": "text"
      },
      "source": [
        "# An Introduction to Simple Linear Regression in Python\n",
        "**For the first statistical python project, we are running a full simple linear regression analysis, from using these imported libraries and modules, as well as basic python concepts.**\n",
        "\n",
        "(Using the amazing sklearn: A Machine Learning Library)"
      ]
    },
    {
      "cell_type": "markdown",
      "metadata": {
        "id": "aOBLfo7QU07c",
        "colab_type": "text"
      },
      "source": [
        "**Importing the necessary libraries and modules**\n",
        "\n",
        "Why do we need these specific libraries/modules?\n",
        "\n",
        "\n",
        "\n",
        "*   **NumPy** - This is a popular and essential library for working with any types of data set. This simplifies all the work when we're dealing with multi-dimensional arrays and matrices. It also makes operations on these arrays a breeze.\n",
        "\n",
        "*   **pandas** - Another popular and essential library for dealing with data. Similar to NumPy, this simplifies and offers many different data manipulation and data analysis tools.\n",
        "\n",
        "*   **Matplotlib** - This is a comprehensive library for creating static, animated, and interactive plots. This is well-known for transforming simple syntax into full and digestible data visualizations.\n",
        "\n",
        "*   **Sklearn** - This is a module for machine learning built on SciPy and integrates classical machine learning algorithms. Features varying regression, classification, clustering algorithms, etc. \n",
        "\n",
        "*   **Seaborn** - A data visualization library based off matplotlib. It provides high-level visualizations. Creating more aesthetically pleasing and informative statistical graphics. A passive library, not specifically calling it but an addendum to matplotlib visualizations.\n",
        "\n"
      ]
    },
    {
      "cell_type": "code",
      "metadata": {
        "id": "SAGlI8gjGt3m",
        "colab_type": "code",
        "colab": {}
      },
      "source": [
        "import numpy as np\n",
        "import pandas as pd\n",
        "import matplotlib.pyplot as plt\n",
        "from sklearn.linear_model import LinearRegression\n",
        "from sklearn.feature_selection import f_regression\n",
        "\n",
        "### Optional, a passive library mainly for\n",
        "import seaborn as sns\n",
        "sns.set()"
      ],
      "execution_count": 0,
      "outputs": []
    },
    {
      "cell_type": "markdown",
      "metadata": {
        "id": "4OcYsM5RUvp6",
        "colab_type": "text"
      },
      "source": [
        "**Creating the simple linear regression function with the parameters**\n",
        "\n",
        "Using a mixture of these previously imported libraries and modules, we are creating a function which will output all that is necessary to run an analysis.\n",
        "\n"
      ]
    },
    {
      "cell_type": "code",
      "metadata": {
        "id": "uh1ThroKUv8F",
        "colab_type": "code",
        "colab": {}
      },
      "source": [
        "def simple_regression(path,x_name,y_name):\n",
        "\n",
        "  data = pd.read_csv(path)\n",
        "\n",
        "  print(data.head())\n",
        "\n",
        "  x = data[x_name]\n",
        "  y = data[y_name]\n",
        "\n",
        "  x_matrix = x.values.reshape(-1,1)\n",
        "  reg = LinearRegression()\n",
        "  reg.fit(x_matrix,y)\n",
        "\n",
        "  r2 = reg.score(x_matrix,y)\n",
        "\n",
        "  print(\"\\nThe R-sqaured value is \" + str(round(r2,3)) +\".\\n\")\n",
        "\n",
        "  if r2 >= 0.8:\n",
        "    print(\"Since our R-sqaured value is significantly high, \"+str(x_name)+\n",
        "          \" is a good predictor of \"+ str(y_name)+\".\")\n",
        "  elif r2 >= 0.5:\n",
        "    print(\"Since our R-sqaured value is moderate, \"+str(x_name)+\n",
        "          \" is a decent predictor of \"+ str(y_name)+\n",
        "          \". Further analysis is needed. Maybe try different variables.\")\n",
        "  else:\n",
        "    print(\"Since our R-sqaured value is low, \"+str(x_name)+\n",
        "          \" is not the best predictor of \"+ str(y_name)+\n",
        "          \". Further analysis is needed. Maybe try different variables.\")\n",
        "\n",
        "  adj = 1-(1-r2)*(x_matrix.shape[0]-1)/(x_matrix.shape[0]-x_matrix.shape[1]-1)\n",
        "\n",
        "  print(\"\\nThe adjusted R-sqaured value is \" + str(round(adj,3)) +\".\\n\")\n",
        "\n",
        "  coef = reg.coef_\n",
        "  intercept = reg.intercept_\n",
        "\n",
        "  yhat = intercept + coef*x_matrix\n",
        "\n",
        "  print('y = '+str(round(intercept,3))+' + '+str(coef.round(3))+' * ' + x_name)\n",
        " \n",
        "\n",
        "  p = f_regression(x_matrix,y)[1].round(5)\n",
        "\n",
        "  # print('\\nThe p-value for the ' + x_name +' variable is '+ str(p))\n",
        "\n",
        "  reg_summary = pd.DataFrame(data=[x_name],columns = ['Features'])\n",
        "  reg_summary ['Coefficients'] = coef\n",
        "  reg_summary ['P-Values'] = p\n",
        "\n",
        "  print(\"\\n\" + str(reg_summary))\n",
        "  print(\"\\n\")\n",
        "  plt.scatter(x,y, alpha = 0.8)\n",
        "  plt.xlabel(x_name, fontsize = 20)\n",
        "  plt.ylabel(y_name, fontsize = 20)\n",
        "  fig = plt.plot(x, yhat, c='green', label = 'Regression')\n",
        "  plt.show()\n",
        "\n",
        "  return 'Done'"
      ],
      "execution_count": 0,
      "outputs": []
    },
    {
      "cell_type": "markdown",
      "metadata": {
        "id": "uAecqywVS6iw",
        "colab_type": "text"
      },
      "source": [
        "**Creating another function for future estimations using our model**\n",
        "\n",
        "This is a function where the given SAT input(s) will output the estimated GPA for the student(s). For readability purposes, we are outputting as a table of values.\n"
      ]
    },
    {
      "cell_type": "code",
      "metadata": {
        "id": "MxKNSdJzaQcw",
        "colab_type": "code",
        "colab": {}
      },
      "source": [
        "def prediction(path, values):\n",
        "\n",
        "  data = pd.read_csv(path)\n",
        "\n",
        "  x = data.iloc[:,:-1].values\n",
        "  y = data.iloc[:,-1].values\n",
        "\n",
        "  reg = LinearRegression()\n",
        "  reg.fit(x,y)\n",
        "\n",
        "  intercept = reg.intercept_\n",
        "  coef = reg.coef_\n",
        "\n",
        "  a = intercept + coef*values\n",
        "\n",
        "  examples = pd.DataFrame({'X1':values})\n",
        "  examples = examples[['X1']]\n",
        "\n",
        "  pred = pd.DataFrame({\"Constant\":'True',\"Predicted value\":a}) \n",
        "\n",
        "  full = examples.join(pred)\n",
        "\n",
        "  return full"
      ],
      "execution_count": 0,
      "outputs": []
    },
    {
      "cell_type": "markdown",
      "metadata": {
        "id": "RiUJBIkCSjwx",
        "colab_type": "text"
      },
      "source": [
        "# REAL EXAMPLE:\n",
        "\n",
        "# After we've created our personalized regression functions, let's try to use our functions with a real data set\n",
        "\n"
      ]
    },
    {
      "cell_type": "markdown",
      "metadata": {
        "id": "Gf5VlR4Mj6eC",
        "colab_type": "text"
      },
      "source": [
        "**Data Description**\n",
        "\n",
        "\n",
        "> This is a simple and intuitive data set about two variables, 'SAT' and 'GPA' for high school students. There are 84 counts of GPA's of random students and their corresponding SAT scores. This will be a sufficient enough data set to drive the point home. \n",
        "\n",
        "  For example, the first row shows that SAT = 1714 and GPA = 2.40. In words, this translates to the first student scoring a 1714 on the SAT and also obtaining a GPA of 2.40. \n"
      ]
    },
    {
      "cell_type": "code",
      "metadata": {
        "id": "EmMsKy05Kcod",
        "colab_type": "code",
        "colab": {}
      },
      "source": [
        "data = pd.read_csv('grades.csv')\n",
        "\n",
        "print(data.describe())\n",
        "data"
      ],
      "execution_count": 0,
      "outputs": []
    },
    {
      "cell_type": "markdown",
      "metadata": {
        "id": "dHd1NELTm3PC",
        "colab_type": "text"
      },
      "source": [
        "# Finally applying our simple linear regression function that we have created.\n",
        "\n",
        "The parameters are ones that we defined originally for the simple regression function. Inputting the name of the file, the independent variable, and the dependent variable.\n",
        "\n",
        "If the parameters were correctly inputted, the output we should be obtaining is a full simple regression analysis as well as a lovely visualization of the scatter plot."
      ]
    },
    {
      "cell_type": "code",
      "metadata": {
        "id": "d7yObuVWS4Ll",
        "colab_type": "code",
        "colab": {}
      },
      "source": [
        "simple_regression('grades.csv','SAT','GPA')\n"
      ],
      "execution_count": 0,
      "outputs": []
    },
    {
      "cell_type": "markdown",
      "metadata": {
        "id": "fQhmcF_isf8S",
        "colab_type": "text"
      },
      "source": [
        "# Predicting new values using our prediction function\n",
        "\n",
        "After running the analysis, another thought that comes to mind is trying to predict values using our regression model. Let's try to predict GPA given an array of SAT scores of these 4 imaginary high school students."
      ]
    },
    {
      "cell_type": "code",
      "metadata": {
        "id": "Rdfr8B6KKc08",
        "colab_type": "code",
        "outputId": "0c0368ca-6c42-47b4-cf17-edc9cc7c57be",
        "colab": {
          "base_uri": "https://localhost:8080/",
          "height": 173
        }
      },
      "source": [
        "predict_SAT = np.array([1500,1600,1700,1800])\n",
        "\n",
        "prediction('grades.csv', predict_SAT)"
      ],
      "execution_count": 0,
      "outputs": [
        {
          "output_type": "execute_result",
          "data": {
            "text/html": [
              "<div>\n",
              "<style scoped>\n",
              "    .dataframe tbody tr th:only-of-type {\n",
              "        vertical-align: middle;\n",
              "    }\n",
              "\n",
              "    .dataframe tbody tr th {\n",
              "        vertical-align: top;\n",
              "    }\n",
              "\n",
              "    .dataframe thead th {\n",
              "        text-align: right;\n",
              "    }\n",
              "</style>\n",
              "<table border=\"1\" class=\"dataframe\">\n",
              "  <thead>\n",
              "    <tr style=\"text-align: right;\">\n",
              "      <th></th>\n",
              "      <th>X1</th>\n",
              "      <th>Constant</th>\n",
              "      <th>Predicted value</th>\n",
              "    </tr>\n",
              "  </thead>\n",
              "  <tbody>\n",
              "    <tr>\n",
              "      <th>0</th>\n",
              "      <td>1500</td>\n",
              "      <td>True</td>\n",
              "      <td>2.758572</td>\n",
              "    </tr>\n",
              "    <tr>\n",
              "      <th>1</th>\n",
              "      <td>1600</td>\n",
              "      <td>True</td>\n",
              "      <td>2.924141</td>\n",
              "    </tr>\n",
              "    <tr>\n",
              "      <th>2</th>\n",
              "      <td>1700</td>\n",
              "      <td>True</td>\n",
              "      <td>3.089710</td>\n",
              "    </tr>\n",
              "    <tr>\n",
              "      <th>3</th>\n",
              "      <td>1800</td>\n",
              "      <td>True</td>\n",
              "      <td>3.255279</td>\n",
              "    </tr>\n",
              "  </tbody>\n",
              "</table>\n",
              "</div>"
            ],
            "text/plain": [
              "     X1 Constant  Predicted value\n",
              "0  1500     True         2.758572\n",
              "1  1600     True         2.924141\n",
              "2  1700     True         3.089710\n",
              "3  1800     True         3.255279"
            ]
          },
          "metadata": {
            "tags": []
          },
          "execution_count": 73
        }
      ]
    },
    {
      "cell_type": "markdown",
      "metadata": {
        "id": "Wt4hU4RhtJbp",
        "colab_type": "text"
      },
      "source": [
        "# Hopefully you enjoyed this walkthough of the simple linear regression in Python :) \n",
        "\n",
        "Give yourself a pat on the back, you deserved it. This is a good first project to dip your toes into machine learning and statistical analysis with Python. Feel free to save a copy and edit the code yourself :)\n",
        "\n",
        "\n",
        "By: David Nguyen"
      ]
    },
    {
      "cell_type": "markdown",
      "metadata": {
        "id": "A_XVJ4jrsiC_",
        "colab_type": "text"
      },
      "source": [
        "![Congratulations!](https://contenthub-static.grammarly.com/blog/wp-content/uploads/2019/04/thumbnail-7075f02d50b2e1b87acaac02e0592003.jpeg)"
      ]
    }
  ]
}